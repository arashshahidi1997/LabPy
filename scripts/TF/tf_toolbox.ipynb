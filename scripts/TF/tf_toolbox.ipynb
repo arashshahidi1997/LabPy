{
 "cells": [
  {
   "cell_type": "code",
   "execution_count": 1,
   "id": "c7ba94b6",
   "metadata": {},
   "outputs": [],
   "source": [
    "import tf_toolbox as tf"
   ]
  },
  {
   "cell_type": "code",
   "execution_count": 7,
   "id": "c7d38f34",
   "metadata": {},
   "outputs": [
    {
     "name": "stdout",
     "output_type": "stream",
     "text": [
      "\u001b[31mSignature:\u001b[39m tf.AdaptiveFilter(*args, **kwargs)\n",
      "\u001b[31mDocstring:\u001b[39m <no docstring>\n",
      "\u001b[31mFile:\u001b[39m      ~/Documents/Science/Research/Projects/LabPy/src/tf_toolbox/utils/filtering.py\n",
      "\u001b[31mType:\u001b[39m      function"
     ]
    }
   ],
   "source": [
    "tf.AdaptiveFilter?"
   ]
  },
  {
   "cell_type": "code",
   "execution_count": null,
   "id": "3a787416",
   "metadata": {},
   "outputs": [],
   "source": [
    "from tf_toolbox.connectivity.ccg import CCG"
   ]
  },
  {
   "cell_type": "code",
   "execution_count": null,
   "id": "41af1780",
   "metadata": {},
   "outputs": [
    {
     "data": {
      "text/plain": [
       "['tf_toolbox.utils.AdaptiveFilter',\n",
       " 'tf_toolbox.utils.filtering.AdaptiveFilter']"
      ]
     },
     "execution_count": 8,
     "metadata": {},
     "output_type": "execute_result"
    }
   ],
   "source": [
    "tf.find('AdaptiveFilter')"
   ]
  }
 ],
 "metadata": {
  "kernelspec": {
   "display_name": "labpy",
   "language": "python",
   "name": "python3"
  },
  "language_info": {
   "codemirror_mode": {
    "name": "ipython",
    "version": 3
   },
   "file_extension": ".py",
   "mimetype": "text/x-python",
   "name": "python",
   "nbconvert_exporter": "python",
   "pygments_lexer": "ipython3",
   "version": "3.11.13"
  }
 },
 "nbformat": 4,
 "nbformat_minor": 5
}
