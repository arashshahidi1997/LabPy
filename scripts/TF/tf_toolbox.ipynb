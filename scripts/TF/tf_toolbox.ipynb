{
 "cells": [
  {
   "cell_type": "code",
   "execution_count": 12,
   "id": "c7ba94b6",
   "metadata": {},
   "outputs": [],
   "source": [
    "import tf_toolbox"
   ]
  },
  {
   "cell_type": "code",
   "execution_count": 17,
   "id": "3a787416",
   "metadata": {},
   "outputs": [],
   "source": [
    "from tf_toolbox.connectivity.ccg import CCG"
   ]
  },
  {
   "cell_type": "code",
   "execution_count": 18,
   "id": "da020390",
   "metadata": {},
   "outputs": [
    {
     "data": {
      "text/plain": [
       "<function tf_toolbox.utils.filtering.AdaptiveFilter(*args, **kwargs)>"
      ]
     },
     "execution_count": 18,
     "metadata": {},
     "output_type": "execute_result"
    }
   ],
   "source": [
    "tf.utils.AdaptiveFilter"
   ]
  },
  {
   "cell_type": "code",
   "execution_count": 8,
   "id": "41af1780",
   "metadata": {},
   "outputs": [
    {
     "data": {
      "text/plain": [
       "['tf_toolbox.utils.AdaptiveFilter',\n",
       " 'tf_toolbox.utils.filtering.AdaptiveFilter']"
      ]
     },
     "execution_count": 8,
     "metadata": {},
     "output_type": "execute_result"
    }
   ],
   "source": [
    "tf.find('AdaptiveFilter')"
   ]
  }
 ],
 "metadata": {
  "kernelspec": {
   "display_name": "labpy",
   "language": "python",
   "name": "python3"
  },
  "language_info": {
   "codemirror_mode": {
    "name": "ipython",
    "version": 3
   },
   "file_extension": ".py",
   "mimetype": "text/x-python",
   "name": "python",
   "nbconvert_exporter": "python",
   "pygments_lexer": "ipython3",
   "version": "3.11.13"
  }
 },
 "nbformat": 4,
 "nbformat_minor": 5
}
