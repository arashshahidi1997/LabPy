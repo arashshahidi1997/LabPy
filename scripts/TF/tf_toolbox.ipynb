{
 "cells": [
  {
   "cell_type": "code",
   "execution_count": 4,
   "id": "c7ba94b6",
   "metadata": {},
   "outputs": [],
   "source": [
    "import tf_toolbox as tf"
   ]
  },
  {
   "cell_type": "code",
   "execution_count": 5,
   "id": "da020390",
   "metadata": {},
   "outputs": [
    {
     "data": {
      "text/plain": [
       "<function tf_toolbox.utils.filtering.AdaptiveFilter(*args, **kwargs)>"
      ]
     },
     "execution_count": 5,
     "metadata": {},
     "output_type": "execute_result"
    }
   ],
   "source": [
    "tf.utils.AdaptiveFilter"
   ]
  },
  {
   "cell_type": "code",
   "execution_count": null,
   "id": "aafe0f2f",
   "metadata": {},
   "outputs": [
    {
     "data": {
      "text/plain": [
       "['tf_toolbox.utils.AdaptiveFilter',\n",
       " 'tf_toolbox.utils.filtering.AdaptiveFilter']"
      ]
     },
     "execution_count": 7,
     "metadata": {},
     "output_type": "execute_result"
    }
   ],
   "source": []
  }
 ],
 "metadata": {
  "kernelspec": {
   "display_name": "labpy",
   "language": "python",
   "name": "python3"
  },
  "language_info": {
   "codemirror_mode": {
    "name": "ipython",
    "version": 3
   },
   "file_extension": ".py",
   "mimetype": "text/x-python",
   "name": "python",
   "nbconvert_exporter": "python",
   "pygments_lexer": "ipython3",
   "version": "3.11.13"
  }
 },
 "nbformat": 4,
 "nbformat_minor": 5
}
